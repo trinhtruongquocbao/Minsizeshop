{
 "cells": [
  {
   "cell_type": "code",
   "execution_count": 2,
   "id": "e054a1ea",
   "metadata": {},
   "outputs": [],
   "source": [
    "import json\n",
    "from woocommerce import API\n",
    "\n",
    "wcapi = API(\n",
    "    url=\"https://minsizeshop.xyz/\", # Your store URL\n",
    "    consumer_key=\"ck_8348fbde58dd5fe0a59cf9b6675da41e83417d81\", # Your consumer key\n",
    "    consumer_secret=\"cs_80caabf5cc292ab918304411c96427f56d75ca35\", # Your consumer secret\n",
    "    wp_api=True, # Enable the WP REST API integration\n",
    "    version=\"wc/v3\", # WooCommerce WP REST API version\n",
    "    timeout=1000\n",
    ")"
   ]
  },
  {
   "cell_type": "code",
   "execution_count": 3,
   "id": "84997a07",
   "metadata": {},
   "outputs": [],
   "source": [
    "import pandas as pd\n",
    "import schedule\n",
    "import time\n",
    "\n",
    "loop = 1\n",
    "\n",
    "def UpdateRegularPriceAndStockQuantityOfProduct():\n",
    "    print(\"Auto Update Products is Working\")\n",
    "    MinSizeShop_data = pd.read_csv(\"MinSizeShop_Products_List.csv\")\n",
    "\n",
    "\n",
    "    for product_id in MinSizeShop_data['id']:\n",
    "        try:\n",
    "            link = \"products/\" + str(product_id)\n",
    "\n",
    "            #print(product_id)\n",
    "            index = MinSizeShop_data['id'][MinSizeShop_data['id'] == product_id].index[0]\n",
    "            regular_prices = MinSizeShop_data['regular_price']\n",
    "            stock_quantitys = MinSizeShop_data['stock_quantity']\n",
    "            data = {\n",
    "                \"regular_price\": str(regular_prices[index]),\n",
    "                \"stock_quantity\": int(stock_quantitys[index])\n",
    "            }\n",
    "            wcapi.put(link, data).json()\n",
    "            time.sleep(1)\n",
    "        except:\n",
    "            pass\n",
    "\n",
    "schedule.every(5).minutes.do(UpdateRegularPriceAndStockQuantityOfProduct)\n",
    "\n",
    "while (loop <= 5):\n",
    "    schedule.run_pending()\n",
    "    time.sleep(1)\n",
    "    loop = loop + 1\n"
   ]
  },
  {
   "cell_type": "code",
   "execution_count": null,
   "id": "565b3745",
   "metadata": {},
   "outputs": [],
   "source": []
  }
 ],
 "metadata": {
  "kernelspec": {
   "display_name": "Python 3 (ipykernel)",
   "language": "python",
   "name": "python3"
  },
  "language_info": {
   "codemirror_mode": {
    "name": "ipython",
    "version": 3
   },
   "file_extension": ".py",
   "mimetype": "text/x-python",
   "name": "python",
   "nbconvert_exporter": "python",
   "pygments_lexer": "ipython3",
   "version": "3.10.4"
  }
 },
 "nbformat": 4,
 "nbformat_minor": 5
}
